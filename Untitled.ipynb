{
 "cells": [
  {
   "cell_type": "code",
   "execution_count": 6,
   "metadata": {},
   "outputs": [
    {
     "name": "stdout",
     "output_type": "stream",
     "text": [
      "1.4.1\n"
     ]
    }
   ],
   "source": [
    "import numpy as np\n",
    "import tensorflow as tf    \n",
    "import matplotlib.pyplot as plt\n",
    "\n",
    "print(tf.__version__)"
   ]
  },
  {
   "cell_type": "code",
   "execution_count": 7,
   "metadata": {
    "collapsed": true,
    "scrolled": true
   },
   "outputs": [],
   "source": [
    "inpX = np.random.rand(1000).astype('float32')"
   ]
  },
  {
   "cell_type": "code",
   "execution_count": 8,
   "metadata": {
    "collapsed": true
   },
   "outputs": [],
   "source": [
    "a_act = 50.0\n",
    "b_act = 40.0\n",
    "y = a_act * inpX + b_act"
   ]
  },
  {
   "cell_type": "code",
   "execution_count": 9,
   "metadata": {},
   "outputs": [
    {
     "data": {
      "image/png": "[encoded data removed]",
      "text/plain": [
       "<matplotlib.figure.Figure at 0x7f128cce4320>"
      ]
     },
     "metadata": {},
     "output_type": "display_data"
    }
   ],
   "source": [
    "plt.plot(inpX, y)\n",
    "plt.show()"
   ]
  },
  {
   "cell_type": "code",
   "execution_count": 10,
   "metadata": {
    "collapsed": true
   },
   "outputs": [],
   "source": [
    "y_dis = np.vectorize(lambda x: x + np.random.normal(loc = 0.0, scale = 0.05))(y)"
   ]
  },
  {
   "cell_type": "code",
   "execution_count": 20,
   "metadata": {},
   "outputs": [],
   "source": [
    "a_var = tf.Variable(0.0)\n",
    "b_var = tf.Variable(0.0)\n",
    "y_var = a_var * inpX + b_var"
   ]
  },
  {
   "cell_type": "code",
   "execution_count": 21,
   "metadata": {},
   "outputs": [],
   "source": [
    "loss = tf.reduce_mean(tf.square(y_var - y))"
   ]
  },
  {
   "cell_type": "code",
   "execution_count": 22,
   "metadata": {},
   "outputs": [],
   "source": [
    "optimizer = tf.train.GradientDescentOptimizer(0.5)\n",
    "train = optimizer.minimize(loss)"
   ]
  },
  {
   "cell_type": "code",
   "execution_count": 24,
   "metadata": {},
   "outputs": [],
   "source": [
    "TRAIN_STEPS = 300\n",
    "results = []\n",
    "with tf.Session() as ss:\n",
    "    ss.run(tf.global_variables_initializer())\n",
    "    for stc in range(TRAIN_STEPS):\n",
    "        results.append(ss.run([train, a_var, b_var]))\n",
    "    "
   ]
  },
  {
   "cell_type": "code",
   "execution_count": 25,
   "metadata": {},
   "outputs": [
    {
     "name": "stdout",
     "output_type": "stream",
     "text": [
      "[[None, 0.0, 0.0], [None, 37.402351, 65.258621], [None, 28.974844, 46.363983], [None, 32.990681, 50.621326], [None, 33.474743, 48.592636], [None, 34.817169, 47.669945], [None, 35.821457, 47.669945], [None, 36.822945, 47.162605], [None, 37.736305, 46.656681], [None, 38.591133, 45.763443], [None, 39.385067, 45.763443], [None, 40.124107, 45.36237], [None, 40.8116, 44.989025], [None, 41.45126, 44.641724], [None, 42.046379, 44.318588], [None, 42.600071, 44.017948], [None, 43.115219, 43.738239], [None, 43.594505, 43.478001], [None, 44.040424, 43.235878], [None, 44.455303, 43.010612], [None, 44.841297, 42.801025], [None, 45.200424, 42.606033], [None, 45.534546, 42.424614], [None, 45.845409, 42.098785], [None, 46.134632, 42.098785], [None, 46.403721, 41.952675], [None, 46.654076, 41.816742], [None, 46.887001, 41.690269], [None, 47.103714, 41.572601], [None, 47.30534, 41.463123], [None, 47.492928, 41.361267], [None, 47.667458, 41.266502], [None, 47.829838, 41.178337], [None, 47.980915, 41.096306], [None, 48.121475, 41.019985], [None, 48.252251, 40.948978], [None, 48.37392, 40.821449], [None, 48.487122, 40.821449], [None, 48.592442, 40.764263], [None, 48.69043, 40.71106], [None, 48.781597, 40.66156], [None, 48.866417, 40.615501], [None, 48.945332, 40.572655], [None, 49.018753, 40.532787], [None, 49.087063, 40.495697], [None, 49.15062, 40.461189], [None, 49.209747, 40.429085], [None, 49.264759, 40.399212], [None, 49.315945, 40.371422], [None, 49.363567, 40.345566], [None, 49.407871, 40.321507], [None, 49.449093, 40.299126], [None, 49.487446, 40.278301], [None, 49.523129, 40.258926], [None, 49.556328, 40.240902], [None, 49.587215, 40.224133], [None, 49.615952, 40.208527], [None, 49.642689, 40.194012], [None, 49.667561, 40.167938], [None, 49.690704, 40.167938], [None, 49.712234, 40.156246], [None, 49.732269, 40.14537], [None, 49.750908, 40.13525], [None, 49.76825, 40.117073], [None, 49.784382, 40.117073], [None, 49.799393, 40.108925], [None, 49.813358, 40.094288], [None, 49.826351, 40.094288], [None, 49.83844, 40.087723], [None, 49.849686, 40.081615], [None, 49.860149, 40.075935], [None, 49.869884, 40.070648], [None, 49.878944, 40.065731], [None, 49.887371, 40.061153], [None, 49.89521, 40.056896], [None, 49.902504, 40.052937], [None, 49.90929, 40.049252], [None, 49.915604, 40.045822], [None, 49.921478, 40.042633], [None, 49.926945, 40.039665], [None, 49.93203, 40.036903], [None, 49.936764, 40.034336], [None, 49.941166, 40.031944], [None, 49.945263, 40.02972], [None, 49.949074, 40.027653], [None, 49.952618, 40.023937], [None, 49.955917, 40.023937], [None, 49.958984, 40.02227], [None, 49.961838, 40.020721], [None, 49.964493, 40.019279], [None, 49.966965, 40.017937], [None, 49.969265, 40.016689], [None, 49.971405, 40.014446], [None, 49.973396, 40.014446], [None, 49.975246, 40.012505], [None, 49.976971, 40.012505], [None, 49.978573, 40.011635], [None, 49.980064, 40.010826], [None, 49.981453, 40.010071], [None, 49.982742, 40.009369], [None, 49.983944, 40.008717], [None, 49.985062, 40.00811], [None, 49.986103, 40.007545], [None, 49.987072, 40.007019], [None, 49.987972, 40.006531], [None, 49.988808, 40.006077], [None, 49.989586, 40.005653], [None, 49.990311, 40.00526], [None, 49.990986, 40.004894], [None, 49.991615, 40.004555], [None, 49.992199, 40.004234], [None, 49.992744, 40.003941], [None, 49.993248, 40.003666], [None, 49.993717, 40.00341], [None, 49.994156, 40.003174], [None, 49.994564, 40.002953], [None, 49.994942, 40.002556], [None, 49.995293, 40.002556], [None, 49.995621, 40.002377], [None, 49.995926, 40.002213], [None, 49.996208, 40.00206], [None, 49.996471, 40.001915], [None, 49.996716, 40.001781], [None, 49.996944, 40.001659], [None, 49.997158, 40.001545], [None, 49.997356, 40.001434], [None, 49.99754, 40.001335], [None, 49.997711, 40.001244], [None, 49.997871, 40.001156], [None, 49.99802, 40.001076], [None, 49.998158, 40.000999], [None, 49.998287, 40.000866], [None, 49.998405, 40.000805], [None, 49.998516, 40.000805], [None, 49.998619, 40.000748], [None, 49.998714, 40.000698], [None, 49.998802, 40.000648], [None, 49.998886, 40.000607], [None, 49.998962, 40.000561], [None, 49.999035, 40.000523], [None, 49.999104, 40.000488], [None, 49.999165, 40.000454], [None, 49.999222, 40.000423], [None, 49.999275, 40.000393], [None, 49.999325, 40.000366], [None, 49.999371, 40.00034], [None, 49.999416, 40.000317], [None, 49.999458, 40.000294], [None, 49.999496, 40.000275], [None, 49.999531, 40.000256], [None, 49.999561, 40.000237], [None, 49.999592, 40.000221], [None, 49.999619, 40.000206], [None, 49.999645, 40.000195], [None, 49.999668, 40.000179], [None, 49.999691, 40.000168], [None, 49.999714, 40.000156], [None, 49.999733, 40.000145], [None, 49.999752, 40.000134], [None, 49.999771, 40.000126], [None, 49.999786, 40.000114], [None, 49.999802, 40.000107], [None, 49.999817, 40.000099], [None, 49.999828, 40.000092], [None, 49.99984, 40.000088], [None, 49.999851, 40.00008], [None, 49.999863, 40.000076], [None, 49.99987, 40.000069], [None, 49.999882, 40.000065], [None, 49.999889, 40.000061], [None, 49.999897, 40.000057], [None, 49.999905, 40.000053], [None, 49.999908, 40.00005], [None, 49.999916, 40.000046], [None, 49.99992, 40.000042], [None, 49.999928, 40.000042], [None, 49.999931, 40.000038], [None, 49.999935, 40.000034], [None, 49.999939, 40.000034], [None, 49.999943, 40.000031], [None, 49.999947, 40.000031], [None, 49.99995, 40.000027], [None, 49.999954, 40.000027], [None, 49.999958, 40.000023], [None, 49.999962, 40.000023], [None, 49.999962, 40.000019], [None, 49.999966, 40.000019], [None, 49.999969, 40.000019], [None, 49.999969, 40.000015], [None, 49.999973, 40.000015], [None, 49.999973, 40.000011], [None, 49.999977, 40.000015], [None, 49.999977, 40.000011], [None, 49.999981, 40.000008], [None, 49.999981, 40.000008], [None, 49.999985, 40.000008], [None, 49.999985, 40.000008], [None, 49.999985, 40.000008], [None, 49.999985, 40.000008], [None, 49.999985, 40.000008], [None, 49.999985, 40.000008], [None, 49.999985, 40.000008], [None, 49.999985, 40.000008], [None, 49.999985, 40.000008], [None, 49.999985, 40.000008], [None, 49.999985, 40.000008], [None, 49.999985, 40.000008], [None, 49.999985, 40.000008], [None, 49.999985, 40.000008], [None, 49.999985, 40.000008], [None, 49.999985, 40.000008], [None, 49.999985, 40.000008], [None, 49.999985, 40.000008], [None, 49.999985, 40.000008], [None, 49.999985, 40.000008], [None, 49.999985, 40.000008], [None, 49.999985, 40.000008], [None, 49.999985, 40.000008], [None, 49.999985, 40.000008], [None, 49.999985, 40.000008], [None, 49.999985, 40.000008], [None, 49.999985, 40.000008], [None, 49.999985, 40.000008], [None, 49.999985, 40.000008], [None, 49.999985, 40.000008], [None, 49.999985, 40.000008], [None, 49.999985, 40.000008], [None, 49.999985, 40.000008], [None, 49.999985, 40.000008], [None, 49.999985, 40.000008], [None, 49.999985, 40.000008], [None, 49.999985, 40.000008], [None, 49.999985, 40.000008], [None, 49.999985, 40.000008], [None, 49.999985, 40.000008], [None, 49.999985, 40.000008], [None, 49.999985, 40.000008], [None, 49.999985, 40.000008], [None, 49.999985, 40.000008], [None, 49.999985, 40.000008], [None, 49.999985, 40.000008], [None, 49.999985, 40.000008], [None, 49.999985, 40.000008], [None, 49.999985, 40.000008], [None, 49.999985, 40.000008], [None, 49.999985, 40.000008], [None, 49.999985, 40.000008], [None, 49.999985, 40.000008], [None, 49.999985, 40.000008], [None, 49.999985, 40.000008], [None, 49.999985, 40.000008], [None, 49.999985, 40.000008], [None, 49.999985, 40.000008], [None, 49.999985, 40.000008], [None, 49.999985, 40.000008], [None, 49.999985, 40.000008], [None, 49.999985, 40.000008], [None, 49.999985, 40.000008], [None, 49.999985, 40.000008], [None, 49.999985, 40.000008], [None, 49.999985, 40.000008], [None, 49.999985, 40.000008], [None, 49.999985, 40.000008], [None, 49.999985, 40.000008], [None, 49.999985, 40.000008], [None, 49.999985, 40.000008], [None, 49.999985, 40.000008], [None, 49.999985, 40.000008], [None, 49.999985, 40.000008], [None, 49.999985, 40.000008], [None, 49.999985, 40.000008], [None, 49.999985, 40.000008], [None, 49.999985, 40.000008], [None, 49.999985, 40.000008], [None, 49.999985, 40.000008], [None, 49.999985, 40.000008], [None, 49.999985, 40.000008], [None, 49.999985, 40.000008], [None, 49.999985, 40.000008], [None, 49.999985, 40.000008], [None, 49.999985, 40.000008], [None, 49.999985, 40.000008], [None, 49.999985, 40.000008], [None, 49.999985, 40.000008], [None, 49.999985, 40.000008], [None, 49.999985, 40.000008], [None, 49.999985, 40.000008], [None, 49.999985, 40.000008], [None, 49.999985, 40.000008], [None, 49.999985, 40.000008], [None, 49.999985, 40.000008], [None, 49.999985, 40.000008], [None, 49.999985, 40.000008], [None, 49.999985, 40.000008], [None, 49.999985, 40.000008], [None, 49.999985, 40.000008], [None, 49.999985, 40.000008], [None, 49.999985, 40.000008], [None, 49.999985, 40.000008], [None, 49.999985, 40.000008]]\n"
     ]
    }
   ],
   "source": [
    "print(results)"
   ]
  },
  {
   "cell_type": "code",
   "execution_count": null,
   "metadata": {
    "collapsed": true
   },
   "outputs": [],
   "source": []
  }
 ],
 "metadata": {
  "kernelspec": {
   "display_name": "Python 3",
   "language": "python",
   "name": "python3"
  },
  "language_info": {
   "codemirror_mode": {
    "name": "ipython",
    "version": 3
   },
   "file_extension": ".py",
   "mimetype": "text/x-python",
   "name": "python",
   "nbconvert_exporter": "python",
   "pygments_lexer": "ipython3",
   "version": "3.6.3"
  }
 },
 "nbformat": 4,
 "nbformat_minor": 2
}
