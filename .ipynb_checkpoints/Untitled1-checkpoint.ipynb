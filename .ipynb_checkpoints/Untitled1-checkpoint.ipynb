{
 "cells": [
  {
   "cell_type": "code",
   "execution_count": 1,
   "metadata": {
    "collapsed": true
   },
   "outputs": [],
   "source": [
    "import numpy as np\n",
    "import tensorflow as tf"
   ]
  },
  {
   "cell_type": "code",
   "execution_count": 4,
   "metadata": {},
   "outputs": [
    {
     "name": "stdout",
     "output_type": "stream",
     "text": [
      "13\n"
     ]
    }
   ],
   "source": [
    "a = tf.constant(12, name=\"a\")\n",
    "b = tf.constant(1, name=\"b\")\n",
    "x = tf.add(a, b, name = \"add\")\n",
    "writer = tf.summary.FileWriter(\"./graphVisual\", tf.get_default_graph())\n",
    "with tf.Session() as ss:\n",
    "    print(ss.run(x))\n",
    "writer.close()"
   ]
  },
  {
   "cell_type": "code",
   "execution_count": 5,
   "metadata": {
    "collapsed": true
   },
   "outputs": [],
   "source": [
    "a = tf.zeros([2, 3], tf.float32)"
   ]
  },
  {
   "cell_type": "code",
   "execution_count": 6,
   "metadata": {},
   "outputs": [
    {
     "name": "stdout",
     "output_type": "stream",
     "text": [
      "Tensor(\"zeros:0\", shape=(2, 3), dtype=float32)\n"
     ]
    }
   ],
   "source": [
    "print(a)"
   ]
  },
  {
   "cell_type": "code",
   "execution_count": 11,
   "metadata": {
    "collapsed": true
   },
   "outputs": [],
   "source": [
    "p = tf.zeros_like(a)"
   ]
  },
  {
   "cell_type": "code",
   "execution_count": 12,
   "metadata": {},
   "outputs": [
    {
     "name": "stdout",
     "output_type": "stream",
     "text": [
      "Tensor(\"zeros_like_1:0\", shape=(2, 3), dtype=float32)\n"
     ]
    }
   ],
   "source": [
    "print(p)"
   ]
  },
  {
   "cell_type": "code",
   "execution_count": 13,
   "metadata": {
    "collapsed": true
   },
   "outputs": [],
   "source": [
    "p = tf.ones([2, 3])"
   ]
  },
  {
   "cell_type": "code",
   "execution_count": 18,
   "metadata": {
    "scrolled": true
   },
   "outputs": [
    {
     "ename": "SyntaxError",
     "evalue": "invalid syntax (<ipython-input-18-963fb9ca0e03>, line 1)",
     "output_type": "error",
     "traceback": [
      "\u001b[0;36m  File \u001b[0;32m\"<ipython-input-18-963fb9ca0e03>\"\u001b[0;36m, line \u001b[0;32m1\u001b[0m\n\u001b[0;31m    result = b .* tf.constant(12, dtype=\"int32\")\u001b[0m\n\u001b[0m                ^\u001b[0m\n\u001b[0;31mSyntaxError\u001b[0m\u001b[0;31m:\u001b[0m invalid syntax\n"
     ]
    }
   ],
   "source": [
    "result = b * tf.constant(12, dtype=\"int32\")\n",
    "with tf.Session() as sess:\n",
    "    print(sess.run(result))"
   ]
  },
  {
   "cell_type": "code",
   "execution_count": 23,
   "metadata": {
    "collapsed": true
   },
   "outputs": [],
   "source": [
    "a = tf.fill([2, 2, 2], 3)"
   ]
  },
  {
   "cell_type": "code",
   "execution_count": 24,
   "metadata": {},
   "outputs": [
    {
     "name": "stdout",
     "output_type": "stream",
     "text": [
      "Tensor(\"Fill_2:0\", shape=(2, 2, 2), dtype=int32)\n"
     ]
    }
   ],
   "source": [
    "print(a)"
   ]
  },
  {
   "cell_type": "code",
   "execution_count": 27,
   "metadata": {},
   "outputs": [],
   "source": [
    "lns = tf.linspace(12.0, 15.0, 3)"
   ]
  },
  {
   "cell_type": "code",
   "execution_count": 29,
   "metadata": {},
   "outputs": [
    {
     "name": "stdout",
     "output_type": "stream",
     "text": [
      "Tensor(\"LinSpace_2:0\", shape=(3,), dtype=float32)\n"
     ]
    }
   ],
   "source": [
    "print (lns)"
   ]
  },
  {
   "cell_type": "code",
   "execution_count": 30,
   "metadata": {},
   "outputs": [
    {
     "name": "stdout",
     "output_type": "stream",
     "text": [
      "Tensor(\"AddN:0\", shape=(2, 4), dtype=int32)\n"
     ]
    }
   ],
   "source": [
    "t1 = tf.fill([2,  4], 12)\n",
    "t2 = tf.fill([2, 4], 2)\n",
    "t3 = tf.fill([2, 4], 2)\n",
    "res = tf.add_n([t1, t2, t3])\n",
    "print(res)"
   ]
  },
  {
   "cell_type": "code",
   "execution_count": 35,
   "metadata": {},
   "outputs": [
    {
     "name": "stdout",
     "output_type": "stream",
     "text": [
      "Tensor(\"Tensordot:0\", dtype=int32)\n"
     ]
    }
   ],
   "source": [
    "t4 = tf.fill([4, 2], 2)\n",
    "print(tf.tensordot(t1, t4, 1))"
   ]
  },
  {
   "cell_type": "code",
   "execution_count": 37,
   "metadata": {},
   "outputs": [],
   "source": [
    "a = tf.get_variable(\"temp\", shape = [2, 10])"
   ]
  },
  {
   "cell_type": "code",
   "execution_count": 48,
   "metadata": {},
   "outputs": [
    {
     "name": "stdout",
     "output_type": "stream",
     "text": [
      "[[ 60.  70.  90.  20.  60.  20.  30.  80.  40.  30.]\n",
      " [ 50.  50.  50.  40.  30.  70.  30.  60.  80.  70.]]\n",
      "[[16 16 16 16]\n",
      " [16 16 16 16]]\n"
     ]
    }
   ],
   "source": [
    "with tf.Session() as ss:\n",
    "    ass = a.assign(np.random.randint(2, 10, (2, 10)) * 10)\n",
    "    ss.run(ass)\n",
    "    print(ss.run(a))\n",
    "    print(ss.run(res))"
   ]
  },
  {
   "cell_type": "code",
   "execution_count": 49,
   "metadata": {
    "collapsed": true
   },
   "outputs": [],
   "source": [
    "import pandas as pd"
   ]
  },
  {
   "cell_type": "code",
   "execution_count": 71,
   "metadata": {
    "collapsed": true
   },
   "outputs": [],
   "source": [
    "\"\"\" Various utilities used for the course\n",
    "CS20: \"TensorFlow for Deep Learning Research\"\n",
    "cs20.stanford.edu\n",
    "Created by Chip Huyen (chiphuyen@cs.stanford.edu)\n",
    "\"\"\"\n",
    "\n",
    "import os\n",
    "import gzip\n",
    "import shutil\n",
    "import struct\n",
    "import urllib\n",
    "\n",
    "os.environ['TF_CPP_MIN_LOG_LEVEL']='2'\n",
    "\n",
    "from matplotlib import pyplot as plt\n",
    "import numpy as np\n",
    "import tensorflow as tf\n",
    "\n",
    "def huber_loss(labels, predictions, delta=14.0):\n",
    "    residual = tf.abs(labels - predictions)\n",
    "    def f1(): return 0.5 * tf.square(residual)\n",
    "    def f2(): return delta * residual - 0.5 * tf.square(delta)\n",
    "    return tf.cond(residual < delta, f1, f2)\n",
    "\n",
    "def safe_mkdir(path):\n",
    "    \"\"\" Create a directory if there isn't one already. \"\"\"\n",
    "    try:\n",
    "        os.mkdir(path)\n",
    "    except OSError:\n",
    "        pass\n",
    "\n",
    "def read_birth_life_data(filename):\n",
    "    \"\"\"\n",
    "    Read in birth_life_2010.txt and return:\n",
    "    data in the form of NumPy array\n",
    "    n_samples: number of samples\n",
    "    \"\"\"\n",
    "    text = open(filename, 'r').readlines()[1:]\n",
    "    data = [line[:-1].split('\\t') for line in text]\n",
    "    births = [float(line[1]) for line in data]\n",
    "    lifes = [float(line[2]) for line in data]\n",
    "    data = list(zip(births, lifes))\n",
    "    n_samples = len(data)\n",
    "    data = np.asarray(data, dtype=np.float32)\n",
    "    return data, n_samples\n",
    "\n",
    "def download_one_file(download_url, \n",
    "                    local_dest, \n",
    "                    expected_byte=None, \n",
    "                    unzip_and_remove=False):\n",
    "    \"\"\" \n",
    "    Download the file from download_url into local_dest\n",
    "    if the file doesn't already exists.\n",
    "    If expected_byte is provided, check if \n",
    "    the downloaded file has the same number of bytes.\n",
    "    If unzip_and_remove is True, unzip the file and remove the zip file\n",
    "    \"\"\"\n",
    "    if os.path.exists(local_dest) or os.path.exists(local_dest[:-3]):\n",
    "        print('%s already exists' %local_dest)\n",
    "    else:\n",
    "        print('Downloading %s' %download_url)\n",
    "        local_file, _ = urllib.request.urlretrieve(download_url, local_dest)\n",
    "        file_stat = os.stat(local_dest)\n",
    "        if expected_byte:\n",
    "            if file_stat.st_size == expected_byte:\n",
    "                print('Successfully downloaded %s' %local_dest)\n",
    "                if unzip_and_remove:\n",
    "                    with gzip.open(local_dest, 'rb') as f_in, open(local_dest[:-3],'wb') as f_out:\n",
    "                        shutil.copyfileobj(f_in, f_out)\n",
    "                    os.remove(local_dest)\n",
    "            else:\n",
    "                print('The downloaded file has unexpected number of bytes')\n",
    "\n",
    "def download_mnist(path):\n",
    "    \"\"\" \n",
    "    Download and unzip the dataset mnist if it's not already downloaded \n",
    "    Download from http://yann.lecun.com/exdb/mnist\n",
    "    \"\"\"\n",
    "    safe_mkdir(path)\n",
    "    url = 'http://yann.lecun.com/exdb/mnist'\n",
    "    filenames = ['train-images-idx3-ubyte.gz',\n",
    "                'train-labels-idx1-ubyte.gz',\n",
    "                't10k-images-idx3-ubyte.gz',\n",
    "                't10k-labels-idx1-ubyte.gz']\n",
    "    expected_bytes = [9912422, 28881, 1648877, 4542]\n",
    "\n",
    "    for filename, byte in zip(filenames, expected_bytes):\n",
    "        download_url = os.path.join(url, filename)\n",
    "        local_dest = os.path.join(path, filename)\n",
    "        download_one_file(download_url, local_dest, byte, True)\n",
    "\n",
    "def parse_data(path, dataset, flatten):\n",
    "    if dataset != 'train' and dataset != 't10k':\n",
    "        raise NameError('dataset must be train or t10k')\n",
    "\n",
    "    label_file = os.path.join(path, dataset + '-labels-idx1-ubyte')\n",
    "    with open(label_file, 'rb') as file:\n",
    "        _, num = struct.unpack(\">II\", file.read(8))\n",
    "        labels = np.fromfile(file, dtype=np.int8) #int8\n",
    "        new_labels = np.zeros((num, 10))\n",
    "        new_labels[np.arange(num), labels] = 1\n",
    "    \n",
    "    img_file = os.path.join(path, dataset + '-images-idx3-ubyte')\n",
    "    with open(img_file, 'rb') as file:\n",
    "        _, num, rows, cols = struct.unpack(\">IIII\", file.read(16))\n",
    "        imgs = np.fromfile(file, dtype=np.uint8).reshape(num, rows, cols) #uint8\n",
    "        imgs = imgs.astype(np.float32) / 255.0\n",
    "        if flatten:\n",
    "            imgs = imgs.reshape([num, -1])\n",
    "\n",
    "    return imgs, new_labels\n",
    "\n",
    "def read_mnist(path, flatten=True, num_train=55000):\n",
    "    \"\"\"\n",
    "    Read in the mnist dataset, given that the data is stored in path\n",
    "    Return two tuples of numpy arrays\n",
    "    ((train_imgs, train_labels), (test_imgs, test_labels))\n",
    "    \"\"\"\n",
    "    imgs, labels = parse_data(path, 'train', flatten)\n",
    "    indices = np.random.permutation(labels.shape[0])\n",
    "    train_idx, val_idx = indices[:num_train], indices[num_train:]\n",
    "    train_img, train_labels = imgs[train_idx, :], labels[train_idx, :]\n",
    "    val_img, val_labels = imgs[val_idx, :], labels[val_idx, :]\n",
    "    test = parse_data(path, 't10k', flatten)\n",
    "    return (train_img, train_labels), (val_img, val_labels), test\n",
    "    \n",
    "def show(image):\n",
    "    \"\"\"\n",
    "    Render a given numpy.uint8 2D array of pixel data.\n",
    "    \"\"\"\n",
    "    plt.imshow(image, cmap='gray')\n",
    "    plt.show()"
   ]
  },
  {
   "cell_type": "code",
   "execution_count": 72,
   "metadata": {},
   "outputs": [
    {
     "ename": "IndexError",
     "evalue": "list index out of range",
     "output_type": "error",
     "traceback": [
      "\u001b[0;31m---------------------------------------------------------------------------\u001b[0m",
      "\u001b[0;31mIndexError\u001b[0m                                Traceback (most recent call last)",
      "\u001b[0;32m<ipython-input-72-7d677be48dfb>\u001b[0m in \u001b[0;36m<module>\u001b[0;34m()\u001b[0m\n\u001b[0;32m----> 1\u001b[0;31m \u001b[0ma\u001b[0m \u001b[0;34m=\u001b[0m \u001b[0mread_birth_life_data\u001b[0m\u001b[0;34m(\u001b[0m\u001b[0;34m\"d.txt\"\u001b[0m\u001b[0;34m)\u001b[0m\u001b[0;34m\u001b[0m\u001b[0m\n\u001b[0m",
      "\u001b[0;32m<ipython-input-71-fcb9f7fbc8fd>\u001b[0m in \u001b[0;36mread_birth_life_data\u001b[0;34m(filename)\u001b[0m\n\u001b[1;32m     38\u001b[0m     \u001b[0mtext\u001b[0m \u001b[0;34m=\u001b[0m \u001b[0mopen\u001b[0m\u001b[0;34m(\u001b[0m\u001b[0mfilename\u001b[0m\u001b[0;34m,\u001b[0m \u001b[0;34m'r'\u001b[0m\u001b[0;34m)\u001b[0m\u001b[0;34m.\u001b[0m\u001b[0mreadlines\u001b[0m\u001b[0;34m(\u001b[0m\u001b[0;34m)\u001b[0m\u001b[0;34m[\u001b[0m\u001b[0;36m1\u001b[0m\u001b[0;34m:\u001b[0m\u001b[0;34m]\u001b[0m\u001b[0;34m\u001b[0m\u001b[0m\n\u001b[1;32m     39\u001b[0m     \u001b[0mdata\u001b[0m \u001b[0;34m=\u001b[0m \u001b[0;34m[\u001b[0m\u001b[0mline\u001b[0m\u001b[0;34m[\u001b[0m\u001b[0;34m:\u001b[0m\u001b[0;34m-\u001b[0m\u001b[0;36m1\u001b[0m\u001b[0;34m]\u001b[0m\u001b[0;34m.\u001b[0m\u001b[0msplit\u001b[0m\u001b[0;34m(\u001b[0m\u001b[0;34m'\\t'\u001b[0m\u001b[0;34m)\u001b[0m \u001b[0;32mfor\u001b[0m \u001b[0mline\u001b[0m \u001b[0;32min\u001b[0m \u001b[0mtext\u001b[0m\u001b[0;34m]\u001b[0m\u001b[0;34m\u001b[0m\u001b[0m\n\u001b[0;32m---> 40\u001b[0;31m     \u001b[0mbirths\u001b[0m \u001b[0;34m=\u001b[0m \u001b[0;34m[\u001b[0m\u001b[0mfloat\u001b[0m\u001b[0;34m(\u001b[0m\u001b[0mline\u001b[0m\u001b[0;34m[\u001b[0m\u001b[0;36m1\u001b[0m\u001b[0;34m]\u001b[0m\u001b[0;34m)\u001b[0m \u001b[0;32mfor\u001b[0m \u001b[0mline\u001b[0m \u001b[0;32min\u001b[0m \u001b[0mdata\u001b[0m\u001b[0;34m]\u001b[0m\u001b[0;34m\u001b[0m\u001b[0m\n\u001b[0m\u001b[1;32m     41\u001b[0m     \u001b[0mlifes\u001b[0m \u001b[0;34m=\u001b[0m \u001b[0;34m[\u001b[0m\u001b[0mfloat\u001b[0m\u001b[0;34m(\u001b[0m\u001b[0mline\u001b[0m\u001b[0;34m[\u001b[0m\u001b[0;36m2\u001b[0m\u001b[0;34m]\u001b[0m\u001b[0;34m)\u001b[0m \u001b[0;32mfor\u001b[0m \u001b[0mline\u001b[0m \u001b[0;32min\u001b[0m \u001b[0mdata\u001b[0m\u001b[0;34m]\u001b[0m\u001b[0;34m\u001b[0m\u001b[0m\n\u001b[1;32m     42\u001b[0m     \u001b[0mdata\u001b[0m \u001b[0;34m=\u001b[0m \u001b[0mlist\u001b[0m\u001b[0;34m(\u001b[0m\u001b[0mzip\u001b[0m\u001b[0;34m(\u001b[0m\u001b[0mbirths\u001b[0m\u001b[0;34m,\u001b[0m \u001b[0mlifes\u001b[0m\u001b[0;34m)\u001b[0m\u001b[0;34m)\u001b[0m\u001b[0;34m\u001b[0m\u001b[0m\n",
      "\u001b[0;32m<ipython-input-71-fcb9f7fbc8fd>\u001b[0m in \u001b[0;36m<listcomp>\u001b[0;34m(.0)\u001b[0m\n\u001b[1;32m     38\u001b[0m     \u001b[0mtext\u001b[0m \u001b[0;34m=\u001b[0m \u001b[0mopen\u001b[0m\u001b[0;34m(\u001b[0m\u001b[0mfilename\u001b[0m\u001b[0;34m,\u001b[0m \u001b[0;34m'r'\u001b[0m\u001b[0;34m)\u001b[0m\u001b[0;34m.\u001b[0m\u001b[0mreadlines\u001b[0m\u001b[0;34m(\u001b[0m\u001b[0;34m)\u001b[0m\u001b[0;34m[\u001b[0m\u001b[0;36m1\u001b[0m\u001b[0;34m:\u001b[0m\u001b[0;34m]\u001b[0m\u001b[0;34m\u001b[0m\u001b[0m\n\u001b[1;32m     39\u001b[0m     \u001b[0mdata\u001b[0m \u001b[0;34m=\u001b[0m \u001b[0;34m[\u001b[0m\u001b[0mline\u001b[0m\u001b[0;34m[\u001b[0m\u001b[0;34m:\u001b[0m\u001b[0;34m-\u001b[0m\u001b[0;36m1\u001b[0m\u001b[0;34m]\u001b[0m\u001b[0;34m.\u001b[0m\u001b[0msplit\u001b[0m\u001b[0;34m(\u001b[0m\u001b[0;34m'\\t'\u001b[0m\u001b[0;34m)\u001b[0m \u001b[0;32mfor\u001b[0m \u001b[0mline\u001b[0m \u001b[0;32min\u001b[0m \u001b[0mtext\u001b[0m\u001b[0;34m]\u001b[0m\u001b[0;34m\u001b[0m\u001b[0m\n\u001b[0;32m---> 40\u001b[0;31m     \u001b[0mbirths\u001b[0m \u001b[0;34m=\u001b[0m \u001b[0;34m[\u001b[0m\u001b[0mfloat\u001b[0m\u001b[0;34m(\u001b[0m\u001b[0mline\u001b[0m\u001b[0;34m[\u001b[0m\u001b[0;36m1\u001b[0m\u001b[0;34m]\u001b[0m\u001b[0;34m)\u001b[0m \u001b[0;32mfor\u001b[0m \u001b[0mline\u001b[0m \u001b[0;32min\u001b[0m \u001b[0mdata\u001b[0m\u001b[0;34m]\u001b[0m\u001b[0;34m\u001b[0m\u001b[0m\n\u001b[0m\u001b[1;32m     41\u001b[0m     \u001b[0mlifes\u001b[0m \u001b[0;34m=\u001b[0m \u001b[0;34m[\u001b[0m\u001b[0mfloat\u001b[0m\u001b[0;34m(\u001b[0m\u001b[0mline\u001b[0m\u001b[0;34m[\u001b[0m\u001b[0;36m2\u001b[0m\u001b[0;34m]\u001b[0m\u001b[0;34m)\u001b[0m \u001b[0;32mfor\u001b[0m \u001b[0mline\u001b[0m \u001b[0;32min\u001b[0m \u001b[0mdata\u001b[0m\u001b[0;34m]\u001b[0m\u001b[0;34m\u001b[0m\u001b[0m\n\u001b[1;32m     42\u001b[0m     \u001b[0mdata\u001b[0m \u001b[0;34m=\u001b[0m \u001b[0mlist\u001b[0m\u001b[0;34m(\u001b[0m\u001b[0mzip\u001b[0m\u001b[0;34m(\u001b[0m\u001b[0mbirths\u001b[0m\u001b[0;34m,\u001b[0m \u001b[0mlifes\u001b[0m\u001b[0;34m)\u001b[0m\u001b[0;34m)\u001b[0m\u001b[0;34m\u001b[0m\u001b[0m\n",
      "\u001b[0;31mIndexError\u001b[0m: list index out of range"
     ]
    }
   ],
   "source": []
  },
  {
   "cell_type": "code",
   "execution_count": 70,
   "metadata": {},
   "outputs": [
    {
     "name": "stdout",
     "output_type": "stream",
     "text": [
      "                                  0\n",
      "0  CountryBirth rateLife expectancy\n",
      "1          Vietnam1.82274.828243902\n",
      "2          Vanuatu3.86970.819487805\n",
      "3            Tonga3.91172.150658537\n",
      "4      Timor-Leste5.57861.999853659\n"
     ]
    }
   ],
   "source": [
    "print(a.head())"
   ]
  },
  {
   "cell_type": "code",
   "execution_count": 60,
   "metadata": {},
   "outputs": [],
   "source": [
    "a = a.loc[1:, :]"
   ]
  },
  {
   "cell_type": "code",
   "execution_count": 62,
   "metadata": {},
   "outputs": [
    {
     "data": {
      "text/plain": [
       "0    190\n",
       "dtype: int64"
      ]
     },
     "execution_count": 62,
     "metadata": {},
     "output_type": "execute_result"
    }
   ],
   "source": [
    "a.count()"
   ]
  },
  {
   "cell_type": "code",
   "execution_count": 64,
   "metadata": {},
   "outputs": [
    {
     "data": {
      "text/plain": [
       "Int64Index([0], dtype='int64')"
      ]
     },
     "execution_count": 64,
     "metadata": {},
     "output_type": "execute_result"
    }
   ],
   "source": [
    "a.columns"
   ]
  },
  {
   "cell_type": "code",
   "execution_count": 68,
   "metadata": {},
   "outputs": [
    {
     "data": {
      "text/plain": [
       "1                       Vietnam1.82274.828243902\n",
       "2                       Vanuatu3.86970.819487805\n",
       "3                         Tonga3.91172.150658537\n",
       "4                   Timor-Leste5.57861.999853659\n",
       "5                      Thailand1.57973.927658537\n",
       "6               Solomon Islands4.22967.465195122\n",
       "7                      Singapore1.1581.641463415\n",
       "8                          Samoa3.8672.306390244\n",
       "9                   Philippines3.14268.484317073\n",
       "10             Papua New Guinea3.95162.440609756\n",
       "11                   New Zealand2.1680.702439024\n",
       "12                New Caledonia2.14176.301682927\n",
       "13                      Myanmar2.00264.662097561\n",
       "14                     Mongolia2.50468.194975610\n",
       "15                   Micronesia3.45168.764829268\n",
       "16                     Malaysia2.63574.024560976\n",
       "17             Macao SAR, China1.09280.775317073\n",
       "18                            Lao PDR2.74767.064\n",
       "19                         Korea1.2280.761951220\n",
       "20                         Japan1.3982.932682927\n",
       "21                    Indonesia2.11768.889658537\n",
       "22         Hong Kong SAR, China1.10882.878048780\n",
       "23                          Guam2.4775.994268293\n",
       "24              French Polynesia2.0975.076878049\n",
       "25                         Fiji2.66869.225829268\n",
       "26              Dem. Rep. Korea2.02268.532146341\n",
       "27                        China1.59873.273097561\n",
       "28                     Cambodia2.58162.536219512\n",
       "29                       Brunei2.04277.932024390\n",
       "30                     Australia1.9281.695121951\n",
       "                         ...                    \n",
       "161                       Niger7.06354.265634146\n",
       "162                     Namibia3.21762.070097561\n",
       "163                  Mozambique4.91249.696926829\n",
       "164                    Mauritius1.4772.967317073\n",
       "165                  Mauritania4.53358.216951220\n",
       "166                        Mali6.29450.954829268\n",
       "167                       Malawi5.9953.462634146\n",
       "168                  Madagascar4.65166.467073171\n",
       "169                     Liberia5.23856.147585366\n",
       "170                     Lesotho3.19947.365073171\n",
       "171                       Kenya4.71856.497073171\n",
       "172               Guinea-Bissau5.06347.700658537\n",
       "173                      Guinea5.24653.638585366\n",
       "174                        Ghana4.1763.837268293\n",
       "175                        Gabon3.2562.286682927\n",
       "176                    Ethiopia4.19358.715097561\n",
       "177                     Eritrea4.45360.994195122\n",
       "178           Equatorial Guinea5.18550.840804878\n",
       "179             Dem. Rep. Congo5.77548.069585366\n",
       "180                       Congo4.54456.960195122\n",
       "181                     Comoros4.91960.626268293\n",
       "182                        Chad5.98149.194829268\n",
       "183    Central African Republic4.63147.618463415\n",
       "184                  Cape Verde2.40573.774048780\n",
       "185                    Cameroon4.48751.062756098\n",
       "186                     Burundi4.33849.877219512\n",
       "187                 Burkina Faso5.8554.924195122\n",
       "188                     Botswana2.7553.109512195\n",
       "189                       Benin5.28755.585585366\n",
       "190                      Angola5.44350.653658537\n",
       "Name: 0, Length: 190, dtype: object"
      ]
     },
     "execution_count": 68,
     "metadata": {},
     "output_type": "execute_result"
    }
   ],
   "source": [
    "a.loc[:, 0]"
   ]
  },
  {
   "cell_type": "code",
   "execution_count": 79,
   "metadata": {
    "collapsed": true
   },
   "outputs": [],
   "source": [
    "dataX = np.random.randint(1, 100, [200, 1]).astype('float32')"
   ]
  },
  {
   "cell_type": "code",
   "execution_count": 117,
   "metadata": {
    "collapsed": true
   },
   "outputs": [],
   "source": [
    "dataY = (50 * dataX + 40) + np.random.rand(200, 1) * 1000 + 20"
   ]
  },
  {
   "cell_type": "code",
   "execution_count": 118,
   "metadata": {},
   "outputs": [
    {
     "name": "stdout",
     "output_type": "stream",
     "text": [
      "[[ 22.]\n",
      " [ 49.]\n",
      " [ 14.]\n",
      " [ 62.]\n",
      " [ 74.]\n",
      " [ 39.]\n",
      " [ 70.]\n",
      " [ 31.]\n",
      " [ 33.]\n",
      " [ 11.]\n",
      " [ 55.]\n",
      " [ 20.]\n",
      " [ 74.]\n",
      " [ 90.]\n",
      " [ 91.]\n",
      " [ 10.]\n",
      " [  8.]\n",
      " [ 78.]\n",
      " [ 36.]\n",
      " [ 70.]\n",
      " [ 29.]\n",
      " [ 92.]\n",
      " [ 58.]\n",
      " [ 74.]\n",
      " [ 73.]\n",
      " [ 76.]\n",
      " [ 26.]\n",
      " [ 54.]\n",
      " [ 72.]\n",
      " [ 51.]\n",
      " [ 14.]\n",
      " [ 93.]\n",
      " [  8.]\n",
      " [ 87.]\n",
      " [ 45.]\n",
      " [ 16.]\n",
      " [ 52.]\n",
      " [ 39.]\n",
      " [  8.]\n",
      " [ 87.]\n",
      " [ 13.]\n",
      " [ 65.]\n",
      " [ 37.]\n",
      " [ 84.]\n",
      " [ 31.]\n",
      " [ 61.]\n",
      " [ 32.]\n",
      " [ 83.]\n",
      " [ 91.]\n",
      " [ 15.]\n",
      " [ 56.]\n",
      " [ 72.]\n",
      " [ 97.]\n",
      " [ 98.]\n",
      " [ 40.]\n",
      " [ 69.]\n",
      " [ 76.]\n",
      " [ 65.]\n",
      " [ 53.]\n",
      " [ 81.]\n",
      " [ 79.]\n",
      " [ 45.]\n",
      " [ 47.]\n",
      " [ 55.]\n",
      " [ 70.]\n",
      " [ 46.]\n",
      " [ 16.]\n",
      " [ 41.]\n",
      " [ 87.]\n",
      " [ 43.]\n",
      " [ 31.]\n",
      " [ 95.]\n",
      " [ 64.]\n",
      " [ 57.]\n",
      " [ 63.]\n",
      " [  2.]\n",
      " [ 11.]\n",
      " [ 54.]\n",
      " [ 77.]\n",
      " [ 20.]\n",
      " [ 42.]\n",
      " [ 31.]\n",
      " [ 16.]\n",
      " [ 36.]\n",
      " [ 16.]\n",
      " [ 24.]\n",
      " [ 78.]\n",
      " [ 47.]\n",
      " [ 70.]\n",
      " [ 71.]\n",
      " [ 43.]\n",
      " [ 77.]\n",
      " [ 69.]\n",
      " [ 14.]\n",
      " [ 37.]\n",
      " [ 67.]\n",
      " [ 28.]\n",
      " [ 74.]\n",
      " [ 93.]\n",
      " [ 79.]\n",
      " [ 26.]\n",
      " [ 46.]\n",
      " [ 21.]\n",
      " [  3.]\n",
      " [ 35.]\n",
      " [ 13.]\n",
      " [ 17.]\n",
      " [ 78.]\n",
      " [ 24.]\n",
      " [ 12.]\n",
      " [ 74.]\n",
      " [ 91.]\n",
      " [ 77.]\n",
      " [ 42.]\n",
      " [ 48.]\n",
      " [ 64.]\n",
      " [ 60.]\n",
      " [ 51.]\n",
      " [ 59.]\n",
      " [ 11.]\n",
      " [ 96.]\n",
      " [ 95.]\n",
      " [ 24.]\n",
      " [ 65.]\n",
      " [ 47.]\n",
      " [ 28.]\n",
      " [ 31.]\n",
      " [ 92.]\n",
      " [ 96.]\n",
      " [ 53.]\n",
      " [ 32.]\n",
      " [ 70.]\n",
      " [ 13.]\n",
      " [ 41.]\n",
      " [ 16.]\n",
      " [ 47.]\n",
      " [ 71.]\n",
      " [ 80.]\n",
      " [ 51.]\n",
      " [ 52.]\n",
      " [ 54.]\n",
      " [ 90.]\n",
      " [ 33.]\n",
      " [ 73.]\n",
      " [ 49.]\n",
      " [ 67.]\n",
      " [ 35.]\n",
      " [ 56.]\n",
      " [ 94.]\n",
      " [ 84.]\n",
      " [ 60.]\n",
      " [ 45.]\n",
      " [ 71.]\n",
      " [ 28.]\n",
      " [ 82.]\n",
      " [ 15.]\n",
      " [ 59.]\n",
      " [ 57.]\n",
      " [ 71.]\n",
      " [ 87.]\n",
      " [ 23.]\n",
      " [ 80.]\n",
      " [ 69.]\n",
      " [  1.]\n",
      " [ 80.]\n",
      " [ 77.]\n",
      " [  6.]\n",
      " [ 97.]\n",
      " [ 85.]\n",
      " [ 86.]\n",
      " [ 38.]\n",
      " [ 28.]\n",
      " [ 48.]\n",
      " [ 64.]\n",
      " [ 64.]\n",
      " [ 17.]\n",
      " [ 28.]\n",
      " [ 49.]\n",
      " [ 55.]\n",
      " [ 54.]\n",
      " [ 18.]\n",
      " [ 91.]\n",
      " [ 41.]\n",
      " [ 80.]\n",
      " [ 62.]\n",
      " [  9.]\n",
      " [ 99.]\n",
      " [ 66.]\n",
      " [ 75.]\n",
      " [ 50.]\n",
      " [ 36.]\n",
      " [ 99.]\n",
      " [ 40.]\n",
      " [ 45.]\n",
      " [ 27.]\n",
      " [ 11.]\n",
      " [ 34.]\n",
      " [ 52.]\n",
      " [ 87.]\n",
      " [ 20.]]\n"
     ]
    }
   ],
   "source": [
    "print(dataX)\n"
   ]
  },
  {
   "cell_type": "code",
   "execution_count": 119,
   "metadata": {
    "collapsed": true
   },
   "outputs": [],
   "source": [
    "import matplotlib.pyplot as plt"
   ]
  },
  {
   "cell_type": "code",
   "execution_count": 120,
   "metadata": {},
   "outputs": [
    {
     "data": {
      "text/plain": [
       "[<matplotlib.lines.Line2D at 0x7f13103d96a0>]"
      ]
     },
     "execution_count": 120,
     "metadata": {},
     "output_type": "execute_result"
    }
   ],
   "source": [
    "plt.plot(dataX, dataY, \"r.\")"
   ]
  },
  {
   "cell_type": "code",
   "execution_count": 121,
   "metadata": {},
   "outputs": [
    {
     "data": {
      "image/png": "[encoded data removed]",
      "text/plain": [
       "<matplotlib.figure.Figure at 0x7f13104149e8>"
      ]
     },
     "metadata": {},
     "output_type": "display_data"
    }
   ],
   "source": [
    "plt.show()"
   ]
  },
  {
   "cell_type": "code",
   "execution_count": 132,
   "metadata": {
    "collapsed": true
   },
   "outputs": [],
   "source": [
    "X = tf.placeholder(tf.float32)\n",
    "Y = tf.placeholder(tf.float32)"
   ]
  },
  {
   "cell_type": "code",
   "execution_count": 134,
   "metadata": {},
   "outputs": [],
   "source": [
    "\n",
    "W = tf.get_variable(\"w\", initializer = tf.constant(0.1))\n",
    "B = tf.get_variable(\"b\", initializer = tf.constant(1.0))\n",
    "\n"
   ]
  },
  {
   "cell_type": "code",
   "execution_count": 135,
   "metadata": {},
   "outputs": [],
   "source": [
    "Y_pred = X * W + B\n",
    "\n",
    "loss = tf.square(Y - Y_pred, name = \"los\")\n",
    "\n",
    "optim = tf.train.GradientDescentOptimizer(learning_rate = 0.1).minimize(loss)"
   ]
  },
  {
   "cell_type": "code",
   "execution_count": 136,
   "metadata": {},
   "outputs": [
    {
     "name": "stdout",
     "output_type": "stream",
     "text": [
      "nan  []  nan\n"
     ]
    }
   ],
   "source": [
    "\n",
    "with tf.Session() as ss:\n",
    "    ss.run(tf.global_variables_initializer())\n",
    "\n",
    "    for i in range(100):\n",
    "        for x, y in zip(dataX, dataY):\n",
    "            ss.run(optim, feed_dict = {X: x, Y:y})\n",
    "\n",
    "    w_out, b_out = ss.run([W, B])\n",
    "        \n",
    "print(w_out, \" [] \", b_out)"
   ]
  },
  {
   "cell_type": "code",
   "execution_count": null,
   "metadata": {
    "collapsed": true
   },
   "outputs": [],
   "source": []
  }
 ],
 "metadata": {
  "kernelspec": {
   "display_name": "Python 3",
   "language": "python",
   "name": "python3"
  },
  "language_info": {
   "codemirror_mode": {
    "name": "ipython",
    "version": 3
   },
   "file_extension": ".py",
   "mimetype": "text/x-python",
   "name": "python",
   "nbconvert_exporter": "python",
   "pygments_lexer": "ipython3",
   "version": "3.6.3"
  }
 },
 "nbformat": 4,
 "nbformat_minor": 2
}
